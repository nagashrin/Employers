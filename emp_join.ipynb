{
 "cells": [
  {
   "cell_type": "code",
   "execution_count": 2,
   "metadata": {},
   "outputs": [],
   "source": [
    "import pandas as pd\n",
    "import re\n",
    "creport = pd.read_csv('CompanyReport_Fiscal_2017_2018.csv')\n",
    "wioa = pd.read_csv('wioa_emp_cleansing.csv')"
   ]
  },
  {
   "cell_type": "code",
   "execution_count": 4,
   "metadata": {},
   "outputs": [
    {
     "name": "stdout",
     "output_type": "stream",
     "text": [
      "Index(['company: Employer Name', 'company: City', 'company: County',\n",
      "       'company: State', 'company: Workers', 'company: WIA'],\n",
      "      dtype='object')\n",
      "Index(['wioa: Primary Name', 'wioa: Secondary Name', 'wioa: Address',\n",
      "       'wioa: Secondary Address', 'wioa: City', 'wioa: ST', 'wioa: ZIP',\n",
      "       'wioa: Phone Number'],\n",
      "      dtype='object')\n"
     ]
    }
   ],
   "source": [
    "#creport_head = creport.head()\n",
    "#wioa_head = wioa.head()\n",
    "#print(creport_head)\n",
    "#print(wioa_head)\n",
    "print(\"company: \" +creport.columns)\n",
    "print(\"wioa: \" + wioa.columns)"
   ]
  },
  {
   "cell_type": "code",
   "execution_count": 5,
   "metadata": {
    "scrolled": true
   },
   "outputs": [
    {
     "data": {
      "text/html": [
       "<div>\n",
       "<style scoped>\n",
       "    .dataframe tbody tr th:only-of-type {\n",
       "        vertical-align: middle;\n",
       "    }\n",
       "\n",
       "    .dataframe tbody tr th {\n",
       "        vertical-align: top;\n",
       "    }\n",
       "\n",
       "    .dataframe thead th {\n",
       "        text-align: right;\n",
       "    }\n",
       "</style>\n",
       "<table border=\"1\" class=\"dataframe\">\n",
       "  <thead>\n",
       "    <tr style=\"text-align: right;\">\n",
       "      <th></th>\n",
       "      <th>Employer Name</th>\n",
       "      <th>City</th>\n",
       "      <th>County</th>\n",
       "      <th>State</th>\n",
       "      <th>Workers</th>\n",
       "      <th>WIA</th>\n",
       "    </tr>\n",
       "  </thead>\n",
       "  <tbody>\n",
       "    <tr>\n",
       "      <th>0</th>\n",
       "      <td>arkansas promise</td>\n",
       "      <td>statewide</td>\n",
       "      <td>nan</td>\n",
       "      <td>arkansas</td>\n",
       "      <td>85.0</td>\n",
       "      <td>nan</td>\n",
       "    </tr>\n",
       "    <tr>\n",
       "      <th>1</th>\n",
       "      <td>cantrell drug company</td>\n",
       "      <td>north little rock</td>\n",
       "      <td>pulaski</td>\n",
       "      <td>arkansas</td>\n",
       "      <td>85.0</td>\n",
       "      <td>central</td>\n",
       "    </tr>\n",
       "    <tr>\n",
       "      <th>2</th>\n",
       "      <td>toys r us</td>\n",
       "      <td>little rock</td>\n",
       "      <td>pulaski</td>\n",
       "      <td>arkansas</td>\n",
       "      <td>25.0</td>\n",
       "      <td>central</td>\n",
       "    </tr>\n",
       "    <tr>\n",
       "      <th>3</th>\n",
       "      <td>dyncorp international</td>\n",
       "      <td>jacksonville</td>\n",
       "      <td>pulaski</td>\n",
       "      <td>arkansas</td>\n",
       "      <td>128.0</td>\n",
       "      <td>central</td>\n",
       "    </tr>\n",
       "    <tr>\n",
       "      <th>4</th>\n",
       "      <td>age industries</td>\n",
       "      <td>conway</td>\n",
       "      <td>faulkner</td>\n",
       "      <td>arkansas</td>\n",
       "      <td>20.0</td>\n",
       "      <td>central</td>\n",
       "    </tr>\n",
       "  </tbody>\n",
       "</table>\n",
       "</div>"
      ],
      "text/plain": [
       "           Employer Name               City    County     State Workers  \\\n",
       "0       arkansas promise          statewide       nan  arkansas    85.0   \n",
       "1  cantrell drug company  north little rock   pulaski  arkansas    85.0   \n",
       "2           toys r us           little rock   pulaski  arkansas    25.0   \n",
       "3  dyncorp international       jacksonville   pulaski  arkansas   128.0   \n",
       "4        age industries              conway  faulkner  arkansas    20.0   \n",
       "\n",
       "       WIA  \n",
       "0      nan  \n",
       "1  central  \n",
       "2  central  \n",
       "3  central  \n",
       "4  central  "
      ]
     },
     "execution_count": 5,
     "metadata": {},
     "output_type": "execute_result"
    }
   ],
   "source": [
    "# Make dataframe lower case\n",
    "wioa_l = wioa.apply(lambda x: x.astype(str).str.lower())\n",
    "creport_l = creport.apply(lambda x: x.astype(str).str.lower())\n",
    "\n",
    "# Removing () and text inside it\n",
    "creport_l[\"Employer Name\"] = (creport_l.loc[:,[\"Employer Name\"]].replace(\"\\(.*\\)\", ' ', regex=True))\n",
    "\n",
    "# Removing '-' and all text after that\n",
    "creport_l[\"Employer Name\"] = creport_l[\"Employer Name\"].str.split(\"-\").str[0]\n",
    "creport_l[\"Employer Name\"] = creport_l[\"Employer Name\"].str.split(\"_\").str[0]\n",
    "\n",
    "# Drop na\n",
    "#creport_l = creport_l.dropna(how = \"any\", inplace = True)\n",
    "#wioa_l.head()\n",
    "creport_l.head()\n"
   ]
  },
  {
   "cell_type": "code",
   "execution_count": 6,
   "metadata": {},
   "outputs": [],
   "source": [
    "# Convert dataframe to .csv file\n",
    "wioa_l.to_csv('wioa_l.csv')\n",
    "creport_l.to_csv('creport_l.csv')\n"
   ]
  },
  {
   "cell_type": "code",
   "execution_count": 7,
   "metadata": {},
   "outputs": [
    {
     "name": "stdout",
     "output_type": "stream",
     "text": [
      "(74, 6)\n",
      "(103065, 8)\n"
     ]
    }
   ],
   "source": [
    "print (creport_l.shape)\n",
    "print (wioa_l.shape)"
   ]
  },
  {
   "cell_type": "markdown",
   "metadata": {},
   "source": [
    "# Analysis:"
   ]
  },
  {
   "cell_type": "code",
   "execution_count": 8,
   "metadata": {},
   "outputs": [
    {
     "data": {
      "text/plain": [
       "0"
      ]
     },
     "execution_count": 8,
     "metadata": {},
     "output_type": "execute_result"
    }
   ],
   "source": [
    "common_emp = list((set(creport_l[\"Employer Name\"]) & (set(wioa_l[\"Secondary Name\"]))))\n",
    "len(common_emp)"
   ]
  },
  {
   "cell_type": "code",
   "execution_count": 9,
   "metadata": {
    "scrolled": true
   },
   "outputs": [
    {
     "data": {
      "text/plain": [
       "0"
      ]
     },
     "execution_count": 9,
     "metadata": {},
     "output_type": "execute_result"
    }
   ],
   "source": [
    "mer = creport_l.merge(wioa_l, how = 'inner')\n",
    "len(mer)"
   ]
  },
  {
   "cell_type": "code",
   "execution_count": 24,
   "metadata": {
    "scrolled": false
   },
   "outputs": [
    {
     "data": {
      "text/plain": [
       "50"
      ]
     },
     "execution_count": 24,
     "metadata": {},
     "output_type": "execute_result"
    }
   ],
   "source": [
    "uniq_emp = list((set(creport_l[\"Employer Name\"]) - (set(wioa_l[\"Secondary Name\"]))))\n",
    "len(uniq_emp)"
   ]
  },
  {
   "cell_type": "code",
   "execution_count": 27,
   "metadata": {},
   "outputs": [
    {
     "data": {
      "text/plain": [
       "80814"
      ]
     },
     "execution_count": 27,
     "metadata": {},
     "output_type": "execute_result"
    }
   ],
   "source": [
    "uniq_emp2 = list((set(wioa_l[\"Secondary Name\"]) - (set(creport_l[\"Employer Name\"]))))\n",
    "type(uniq_emp2)\n",
    "len(uniq_emp2)"
   ]
  },
  {
   "cell_type": "code",
   "execution_count": 29,
   "metadata": {},
   "outputs": [
    {
     "data": {
      "text/plain": [
       "Index(['Primary Name', 'Secondary Name', 'Address', 'Secondary Address',\n",
       "       'City', 'ST', 'ZIP', 'Phone Number'],\n",
       "      dtype='object')"
      ]
     },
     "execution_count": 29,
     "metadata": {},
     "output_type": "execute_result"
    }
   ],
   "source": [
    "wioa_l.columns"
   ]
  },
  {
   "cell_type": "markdown",
   "metadata": {},
   "source": [
    "# sfgfg"
   ]
  },
  {
   "cell_type": "code",
   "execution_count": 32,
   "metadata": {},
   "outputs": [
    {
     "data": {
      "text/html": [
       "<div>\n",
       "<style scoped>\n",
       "    .dataframe tbody tr th:only-of-type {\n",
       "        vertical-align: middle;\n",
       "    }\n",
       "\n",
       "    .dataframe tbody tr th {\n",
       "        vertical-align: top;\n",
       "    }\n",
       "\n",
       "    .dataframe thead th {\n",
       "        text-align: right;\n",
       "    }\n",
       "</style>\n",
       "<table border=\"1\" class=\"dataframe\">\n",
       "  <thead>\n",
       "    <tr style=\"text-align: right;\">\n",
       "      <th></th>\n",
       "      <th>Employer Name</th>\n",
       "      <th>City_x</th>\n",
       "      <th>County</th>\n",
       "      <th>State</th>\n",
       "      <th>Workers</th>\n",
       "      <th>WIA</th>\n",
       "      <th>Match_Wpriname</th>\n",
       "      <th>Secondary Name</th>\n",
       "      <th>Address</th>\n",
       "      <th>Secondary Address</th>\n",
       "      <th>City_y</th>\n",
       "      <th>ST</th>\n",
       "      <th>ZIP</th>\n",
       "      <th>Phone Number</th>\n",
       "    </tr>\n",
       "  </thead>\n",
       "  <tbody>\n",
       "    <tr>\n",
       "      <th>0</th>\n",
       "      <td>arkansas promise</td>\n",
       "      <td>statewide</td>\n",
       "      <td>nan</td>\n",
       "      <td>arkansas</td>\n",
       "      <td>85.0</td>\n",
       "      <td>nan</td>\n",
       "      <td>False</td>\n",
       "      <td>NaN</td>\n",
       "      <td>NaN</td>\n",
       "      <td>NaN</td>\n",
       "      <td>NaN</td>\n",
       "      <td>NaN</td>\n",
       "      <td>NaN</td>\n",
       "      <td>NaN</td>\n",
       "    </tr>\n",
       "    <tr>\n",
       "      <th>1</th>\n",
       "      <td>cantrell drug company</td>\n",
       "      <td>north little rock</td>\n",
       "      <td>pulaski</td>\n",
       "      <td>arkansas</td>\n",
       "      <td>85.0</td>\n",
       "      <td>central</td>\n",
       "      <td>False</td>\n",
       "      <td>NaN</td>\n",
       "      <td>NaN</td>\n",
       "      <td>NaN</td>\n",
       "      <td>NaN</td>\n",
       "      <td>NaN</td>\n",
       "      <td>NaN</td>\n",
       "      <td>NaN</td>\n",
       "    </tr>\n",
       "    <tr>\n",
       "      <th>2</th>\n",
       "      <td>toys r us</td>\n",
       "      <td>little rock</td>\n",
       "      <td>pulaski</td>\n",
       "      <td>arkansas</td>\n",
       "      <td>25.0</td>\n",
       "      <td>central</td>\n",
       "      <td>False</td>\n",
       "      <td>NaN</td>\n",
       "      <td>NaN</td>\n",
       "      <td>NaN</td>\n",
       "      <td>NaN</td>\n",
       "      <td>NaN</td>\n",
       "      <td>NaN</td>\n",
       "      <td>NaN</td>\n",
       "    </tr>\n",
       "    <tr>\n",
       "      <th>3</th>\n",
       "      <td>dyncorp international</td>\n",
       "      <td>jacksonville</td>\n",
       "      <td>pulaski</td>\n",
       "      <td>arkansas</td>\n",
       "      <td>128.0</td>\n",
       "      <td>central</td>\n",
       "      <td>False</td>\n",
       "      <td>NaN</td>\n",
       "      <td>NaN</td>\n",
       "      <td>NaN</td>\n",
       "      <td>NaN</td>\n",
       "      <td>NaN</td>\n",
       "      <td>NaN</td>\n",
       "      <td>NaN</td>\n",
       "    </tr>\n",
       "    <tr>\n",
       "      <th>4</th>\n",
       "      <td>age industries</td>\n",
       "      <td>conway</td>\n",
       "      <td>faulkner</td>\n",
       "      <td>arkansas</td>\n",
       "      <td>20.0</td>\n",
       "      <td>central</td>\n",
       "      <td>False</td>\n",
       "      <td>NaN</td>\n",
       "      <td>NaN</td>\n",
       "      <td>NaN</td>\n",
       "      <td>NaN</td>\n",
       "      <td>NaN</td>\n",
       "      <td>NaN</td>\n",
       "      <td>NaN</td>\n",
       "    </tr>\n",
       "  </tbody>\n",
       "</table>\n",
       "</div>"
      ],
      "text/plain": [
       "           Employer Name             City_x    County     State Workers  \\\n",
       "0       arkansas promise          statewide       nan  arkansas    85.0   \n",
       "1  cantrell drug company  north little rock   pulaski  arkansas    85.0   \n",
       "2           toys r us           little rock   pulaski  arkansas    25.0   \n",
       "3  dyncorp international       jacksonville   pulaski  arkansas   128.0   \n",
       "4        age industries              conway  faulkner  arkansas    20.0   \n",
       "\n",
       "       WIA Match_Wpriname Secondary Name Address Secondary Address City_y  \\\n",
       "0      nan          False            NaN     NaN               NaN    NaN   \n",
       "1  central          False            NaN     NaN               NaN    NaN   \n",
       "2  central          False            NaN     NaN               NaN    NaN   \n",
       "3  central          False            NaN     NaN               NaN    NaN   \n",
       "4  central          False            NaN     NaN               NaN    NaN   \n",
       "\n",
       "    ST  ZIP Phone Number  \n",
       "0  NaN  NaN          NaN  \n",
       "1  NaN  NaN          NaN  \n",
       "2  NaN  NaN          NaN  \n",
       "3  NaN  NaN          NaN  \n",
       "4  NaN  NaN          NaN  "
      ]
     },
     "execution_count": 32,
     "metadata": {},
     "output_type": "execute_result"
    }
   ],
   "source": [
    "from pandas import DataFrame\n",
    "wioa_lm = wioa_l\n",
    "wioa_lm.columns = ['Employer Name', 'Secondary Name', 'Address', 'Secondary Address',\n",
    "       'City', 'ST', 'ZIP', 'Phone Number']\n",
    "df = creport_l.merge(wioa_lm, on = \"Employer Name\", how = \"left\")\n",
    "df.head()"
   ]
  },
  {
   "cell_type": "code",
   "execution_count": null,
   "metadata": {},
   "outputs": [],
   "source": [
    "values = set(Df2['IDs'])\n",
    "\n",
    "Df1['Match'] = Df1['name'].isin(values).astype(int)"
   ]
  },
  {
   "cell_type": "markdown",
   "metadata": {},
   "source": [
    "# hjhjhjhj\n"
   ]
  },
  {
   "cell_type": "code",
   "execution_count": 100,
   "metadata": {},
   "outputs": [
    {
     "data": {
      "text/html": [
       "<div>\n",
       "<style scoped>\n",
       "    .dataframe tbody tr th:only-of-type {\n",
       "        vertical-align: middle;\n",
       "    }\n",
       "\n",
       "    .dataframe tbody tr th {\n",
       "        vertical-align: top;\n",
       "    }\n",
       "\n",
       "    .dataframe thead th {\n",
       "        text-align: right;\n",
       "    }\n",
       "</style>\n",
       "<table border=\"1\" class=\"dataframe\">\n",
       "  <thead>\n",
       "    <tr style=\"text-align: right;\">\n",
       "      <th></th>\n",
       "      <th>Employer Name</th>\n",
       "      <th>City</th>\n",
       "      <th>County</th>\n",
       "      <th>State</th>\n",
       "      <th>Workers</th>\n",
       "      <th>WIA</th>\n",
       "    </tr>\n",
       "  </thead>\n",
       "  <tbody>\n",
       "    <tr>\n",
       "      <th>0</th>\n",
       "      <td>arkansas promise</td>\n",
       "      <td>statewide</td>\n",
       "      <td>nan</td>\n",
       "      <td>arkansas</td>\n",
       "      <td>85.0</td>\n",
       "      <td>nan</td>\n",
       "    </tr>\n",
       "    <tr>\n",
       "      <th>1</th>\n",
       "      <td>cantrell drug company</td>\n",
       "      <td>north little rock</td>\n",
       "      <td>pulaski</td>\n",
       "      <td>arkansas</td>\n",
       "      <td>85.0</td>\n",
       "      <td>central</td>\n",
       "    </tr>\n",
       "    <tr>\n",
       "      <th>2</th>\n",
       "      <td>toys r us</td>\n",
       "      <td>little rock</td>\n",
       "      <td>pulaski</td>\n",
       "      <td>arkansas</td>\n",
       "      <td>25.0</td>\n",
       "      <td>central</td>\n",
       "    </tr>\n",
       "    <tr>\n",
       "      <th>3</th>\n",
       "      <td>dyncorp international</td>\n",
       "      <td>jacksonville</td>\n",
       "      <td>pulaski</td>\n",
       "      <td>arkansas</td>\n",
       "      <td>128.0</td>\n",
       "      <td>central</td>\n",
       "    </tr>\n",
       "    <tr>\n",
       "      <th>4</th>\n",
       "      <td>age industries</td>\n",
       "      <td>conway</td>\n",
       "      <td>faulkner</td>\n",
       "      <td>arkansas</td>\n",
       "      <td>20.0</td>\n",
       "      <td>central</td>\n",
       "    </tr>\n",
       "  </tbody>\n",
       "</table>\n",
       "</div>"
      ],
      "text/plain": [
       "           Employer Name               City    County     State Workers  \\\n",
       "0       arkansas promise          statewide       nan  arkansas    85.0   \n",
       "1  cantrell drug company  north little rock   pulaski  arkansas    85.0   \n",
       "2           toys r us           little rock   pulaski  arkansas    25.0   \n",
       "3  dyncorp international       jacksonville   pulaski  arkansas   128.0   \n",
       "4        age industries              conway  faulkner  arkansas    20.0   \n",
       "\n",
       "       WIA  \n",
       "0      nan  \n",
       "1  central  \n",
       "2  central  \n",
       "3  central  \n",
       "4  central  "
      ]
     },
     "execution_count": 100,
     "metadata": {},
     "output_type": "execute_result"
    }
   ],
   "source": [
    "#Using creport_2 for experiments\n",
    "creport_2 = creport_l\n",
    "creport_2.columns\n",
    "creport_2[\"Employer Name\"] = (creport_2.loc[:,[\"Employer Name\"]].replace('[())]', ' ', regex=True))\n",
    "creport_2.head()"
   ]
  },
  {
   "cell_type": "code",
   "execution_count": 101,
   "metadata": {
    "scrolled": true
   },
   "outputs": [
    {
     "data": {
      "text/html": [
       "<div>\n",
       "<style scoped>\n",
       "    .dataframe tbody tr th:only-of-type {\n",
       "        vertical-align: middle;\n",
       "    }\n",
       "\n",
       "    .dataframe tbody tr th {\n",
       "        vertical-align: top;\n",
       "    }\n",
       "\n",
       "    .dataframe thead th {\n",
       "        text-align: right;\n",
       "    }\n",
       "</style>\n",
       "<table border=\"1\" class=\"dataframe\">\n",
       "  <thead>\n",
       "    <tr style=\"text-align: right;\">\n",
       "      <th></th>\n",
       "      <th>Employer Name</th>\n",
       "      <th>City</th>\n",
       "      <th>County</th>\n",
       "      <th>State</th>\n",
       "      <th>Workers</th>\n",
       "      <th>WIA</th>\n",
       "    </tr>\n",
       "  </thead>\n",
       "  <tbody>\n",
       "    <tr>\n",
       "      <th>0</th>\n",
       "      <td>arkansas promise</td>\n",
       "      <td>statewide</td>\n",
       "      <td>nan</td>\n",
       "      <td>arkansas</td>\n",
       "      <td>85.0</td>\n",
       "      <td>nan</td>\n",
       "    </tr>\n",
       "    <tr>\n",
       "      <th>1</th>\n",
       "      <td>cantrell drug company</td>\n",
       "      <td>north little rock</td>\n",
       "      <td>pulaski</td>\n",
       "      <td>arkansas</td>\n",
       "      <td>85.0</td>\n",
       "      <td>central</td>\n",
       "    </tr>\n",
       "    <tr>\n",
       "      <th>2</th>\n",
       "      <td>toys r us</td>\n",
       "      <td>little rock</td>\n",
       "      <td>pulaski</td>\n",
       "      <td>arkansas</td>\n",
       "      <td>25.0</td>\n",
       "      <td>central</td>\n",
       "    </tr>\n",
       "    <tr>\n",
       "      <th>3</th>\n",
       "      <td>dyncorp international</td>\n",
       "      <td>jacksonville</td>\n",
       "      <td>pulaski</td>\n",
       "      <td>arkansas</td>\n",
       "      <td>128.0</td>\n",
       "      <td>central</td>\n",
       "    </tr>\n",
       "    <tr>\n",
       "      <th>4</th>\n",
       "      <td>age industries</td>\n",
       "      <td>conway</td>\n",
       "      <td>faulkner</td>\n",
       "      <td>arkansas</td>\n",
       "      <td>20.0</td>\n",
       "      <td>central</td>\n",
       "    </tr>\n",
       "  </tbody>\n",
       "</table>\n",
       "</div>"
      ],
      "text/plain": [
       "           Employer Name               City    County     State Workers  \\\n",
       "0       arkansas promise          statewide       nan  arkansas    85.0   \n",
       "1  cantrell drug company  north little rock   pulaski  arkansas    85.0   \n",
       "2           toys r us           little rock   pulaski  arkansas    25.0   \n",
       "3  dyncorp international       jacksonville   pulaski  arkansas   128.0   \n",
       "4        age industries              conway  faulkner  arkansas    20.0   \n",
       "\n",
       "       WIA  \n",
       "0      nan  \n",
       "1  central  \n",
       "2  central  \n",
       "3  central  \n",
       "4  central  "
      ]
     },
     "execution_count": 101,
     "metadata": {},
     "output_type": "execute_result"
    }
   ],
   "source": [
    "creport_3 = creport_2\n",
    "creport_3.columns\n",
    "creport_3[\"Employer Name\"] = (creport_3.loc[:,[\"Employer Name\"]].replace(\"\\(.*\\)\", ' ', regex=True))\n",
    "\n",
    "creport_4 = creport_3\n",
    "creport_4[\"Employer Name\"] = creport_4[\"Employer Name\"].str.split(\"-\").str[0]\n",
    "\n",
    "creport_4.head()"
   ]
  },
  {
   "cell_type": "code",
   "execution_count": 70,
   "metadata": {},
   "outputs": [
    {
     "ename": "NameError",
     "evalue": "name 'df' is not defined",
     "output_type": "error",
     "traceback": [
      "\u001b[1;31m---------------------------------------------------------------------------\u001b[0m",
      "\u001b[1;31mNameError\u001b[0m                                 Traceback (most recent call last)",
      "\u001b[1;32m<ipython-input-70-074c2c33cc51>\u001b[0m in \u001b[0;36m<module>\u001b[1;34m()\u001b[0m\n\u001b[1;32m----> 1\u001b[1;33m \u001b[0mdf\u001b[0m\u001b[1;33m[\u001b[0m\u001b[1;34m'text_new'\u001b[0m\u001b[1;33m]\u001b[0m \u001b[1;33m=\u001b[0m \u001b[0mdf\u001b[0m\u001b[1;33m[\u001b[0m\u001b[1;34m'text'\u001b[0m\u001b[1;33m]\u001b[0m\u001b[1;33m.\u001b[0m\u001b[0mstr\u001b[0m\u001b[1;33m.\u001b[0m\u001b[0msplit\u001b[0m\u001b[1;33m(\u001b[0m\u001b[1;34m'::'\u001b[0m\u001b[1;33m)\u001b[0m\u001b[1;33m.\u001b[0m\u001b[0mstr\u001b[0m\u001b[1;33m[\u001b[0m\u001b[1;36m0\u001b[0m\u001b[1;33m]\u001b[0m\u001b[1;33m\u001b[0m\u001b[0m\n\u001b[0m",
      "\u001b[1;31mNameError\u001b[0m: name 'df' is not defined"
     ]
    }
   ],
   "source": [
    "df['text_new'] = df['text'].str.split('::').str[0]"
   ]
  },
  {
   "cell_type": "code",
   "execution_count": 45,
   "metadata": {},
   "outputs": [
    {
     "data": {
      "text/html": [
       "<div>\n",
       "<style scoped>\n",
       "    .dataframe tbody tr th:only-of-type {\n",
       "        vertical-align: middle;\n",
       "    }\n",
       "\n",
       "    .dataframe tbody tr th {\n",
       "        vertical-align: top;\n",
       "    }\n",
       "\n",
       "    .dataframe thead th {\n",
       "        text-align: right;\n",
       "    }\n",
       "</style>\n",
       "<table border=\"1\" class=\"dataframe\">\n",
       "  <thead>\n",
       "    <tr style=\"text-align: right;\">\n",
       "      <th></th>\n",
       "      <th>Employer Name</th>\n",
       "      <th>City</th>\n",
       "      <th>County</th>\n",
       "      <th>State</th>\n",
       "      <th>Workers</th>\n",
       "      <th>WIA</th>\n",
       "    </tr>\n",
       "  </thead>\n",
       "  <tbody>\n",
       "    <tr>\n",
       "      <th>0</th>\n",
       "      <td>arkansas promise</td>\n",
       "      <td>statewide</td>\n",
       "      <td>nan</td>\n",
       "      <td>arkansas</td>\n",
       "      <td>85.0</td>\n",
       "      <td>nan</td>\n",
       "    </tr>\n",
       "    <tr>\n",
       "      <th>1</th>\n",
       "      <td>cantrell drug company</td>\n",
       "      <td>north little rock</td>\n",
       "      <td>pulaski</td>\n",
       "      <td>arkansas</td>\n",
       "      <td>85.0</td>\n",
       "      <td>central</td>\n",
       "    </tr>\n",
       "    <tr>\n",
       "      <th>2</th>\n",
       "      <td>toys r us  (north little rock store)</td>\n",
       "      <td>little rock</td>\n",
       "      <td>pulaski</td>\n",
       "      <td>arkansas</td>\n",
       "      <td>25.0</td>\n",
       "      <td>central</td>\n",
       "    </tr>\n",
       "    <tr>\n",
       "      <th>3</th>\n",
       "      <td>dyncorp international</td>\n",
       "      <td>jacksonville</td>\n",
       "      <td>pulaski</td>\n",
       "      <td>arkansas</td>\n",
       "      <td>128.0</td>\n",
       "      <td>central</td>\n",
       "    </tr>\n",
       "    <tr>\n",
       "      <th>4</th>\n",
       "      <td>age industries - conway</td>\n",
       "      <td>conway</td>\n",
       "      <td>faulkner</td>\n",
       "      <td>arkansas</td>\n",
       "      <td>20.0</td>\n",
       "      <td>central</td>\n",
       "    </tr>\n",
       "  </tbody>\n",
       "</table>\n",
       "</div>"
      ],
      "text/plain": [
       "                          Employer Name               City    County  \\\n",
       "0                      arkansas promise          statewide       nan   \n",
       "1                 cantrell drug company  north little rock   pulaski   \n",
       "2  toys r us  (north little rock store)        little rock   pulaski   \n",
       "3                 dyncorp international       jacksonville   pulaski   \n",
       "4               age industries - conway             conway  faulkner   \n",
       "\n",
       "      State Workers      WIA  \n",
       "0  arkansas    85.0      nan  \n",
       "1  arkansas    85.0  central  \n",
       "2  arkansas    25.0  central  \n",
       "3  arkansas   128.0  central  \n",
       "4  arkansas    20.0  central  "
      ]
     },
     "execution_count": 45,
     "metadata": {},
     "output_type": "execute_result"
    }
   ],
   "source": [
    "creport_l.head()"
   ]
  },
  {
   "cell_type": "code",
   "execution_count": 5,
   "metadata": {},
   "outputs": [
    {
     "ename": "TypeError",
     "evalue": "sub() missing 1 required positional argument: 'string'",
     "output_type": "error",
     "traceback": [
      "\u001b[1;31m---------------------------------------------------------------------------\u001b[0m",
      "\u001b[1;31mTypeError\u001b[0m                                 Traceback (most recent call last)",
      "\u001b[1;32m<ipython-input-5-42ac70d0a1d3>\u001b[0m in \u001b[0;36m<module>\u001b[1;34m()\u001b[0m\n\u001b[0;32m      1\u001b[0m \u001b[1;32mimport\u001b[0m \u001b[0mre\u001b[0m\u001b[1;33m\u001b[0m\u001b[0m\n\u001b[0;32m      2\u001b[0m \u001b[0mk\u001b[0m \u001b[1;33m=\u001b[0m \u001b[1;34m\"toysus (north little rock store)\"\u001b[0m\u001b[1;33m\u001b[0m\u001b[0m\n\u001b[1;32m----> 3\u001b[1;33m \u001b[0mk\u001b[0m \u001b[1;33m=\u001b[0m \u001b[0mk\u001b[0m\u001b[1;33m(\u001b[0m\u001b[0mre\u001b[0m\u001b[1;33m.\u001b[0m\u001b[0msub\u001b[0m\u001b[1;33m(\u001b[0m\u001b[1;34mr'\\([^()]*\\)'\u001b[0m\u001b[1;33m,\u001b[0m \u001b[1;34m''\u001b[0m\u001b[1;33m)\u001b[0m\u001b[1;33m,\u001b[0m\u001b[0mstr\u001b[0m\u001b[1;33m)\u001b[0m\u001b[1;33m\u001b[0m\u001b[0m\n\u001b[0m",
      "\u001b[1;31mTypeError\u001b[0m: sub() missing 1 required positional argument: 'string'"
     ]
    }
   ],
   "source": [
    "import re\n",
    "k = \"toysus (north little rock store)\"\n",
    "k = k(re.sub(r'\\([^()]*\\)', ''),str)"
   ]
  },
  {
   "cell_type": "code",
   "execution_count": null,
   "metadata": {},
   "outputs": [],
   "source": [
    "re.sub(r'\\([^)]*\\)', '', creport_l[\"Employer Name\"])"
   ]
  },
  {
   "cell_type": "code",
   "execution_count": null,
   "metadata": {},
   "outputs": [],
   "source": [
    "re.sub(r'\\([^()]*\\)', '', s)\n",
    "df.columns = df.columns.str.strip().str.lower().str.replace(' ', '_').str.replace('(', '').str.replace(')', '')\n",
    "text.split('(')[0]\n",
    "energy['Country'] = energy['Country'].str.replace(r\"\\(.*\\)\",\"\")\n",
    "energy['Country'] = energy['Country'].str.replace(r\"\\s+\\(.*\\)\",\"\")"
   ]
  },
  {
   "cell_type": "code",
   "execution_count": 68,
   "metadata": {},
   "outputs": [
    {
     "data": {
      "text/html": [
       "<div>\n",
       "<style scoped>\n",
       "    .dataframe tbody tr th:only-of-type {\n",
       "        vertical-align: middle;\n",
       "    }\n",
       "\n",
       "    .dataframe tbody tr th {\n",
       "        vertical-align: top;\n",
       "    }\n",
       "\n",
       "    .dataframe thead th {\n",
       "        text-align: right;\n",
       "    }\n",
       "</style>\n",
       "<table border=\"1\" class=\"dataframe\">\n",
       "  <thead>\n",
       "    <tr style=\"text-align: right;\">\n",
       "      <th></th>\n",
       "      <th>Employer Name</th>\n",
       "      <th>City</th>\n",
       "      <th>County</th>\n",
       "      <th>State</th>\n",
       "      <th>Workers</th>\n",
       "      <th>WIA</th>\n",
       "    </tr>\n",
       "  </thead>\n",
       "  <tbody>\n",
       "    <tr>\n",
       "      <th>15</th>\n",
       "      <td>babies r us</td>\n",
       "      <td>little rock</td>\n",
       "      <td>pulaski</td>\n",
       "      <td>arkansas</td>\n",
       "      <td>26.0</td>\n",
       "      <td>little rock</td>\n",
       "    </tr>\n",
       "    <tr>\n",
       "      <th>16</th>\n",
       "      <td>windstream</td>\n",
       "      <td>little rock</td>\n",
       "      <td>pulaski</td>\n",
       "      <td>arkansas</td>\n",
       "      <td>43.0</td>\n",
       "      <td>little rock</td>\n",
       "    </tr>\n",
       "    <tr>\n",
       "      <th>17</th>\n",
       "      <td>uams</td>\n",
       "      <td>little rock</td>\n",
       "      <td>pulaski</td>\n",
       "      <td>arkansas</td>\n",
       "      <td>258.0</td>\n",
       "      <td>little rock</td>\n",
       "    </tr>\n",
       "    <tr>\n",
       "      <th>18</th>\n",
       "      <td>charming charlie</td>\n",
       "      <td>little rock</td>\n",
       "      <td>pulaski</td>\n",
       "      <td>arkansas</td>\n",
       "      <td>12.0</td>\n",
       "      <td>little rock</td>\n",
       "    </tr>\n",
       "    <tr>\n",
       "      <th>19</th>\n",
       "      <td>dixie cafe</td>\n",
       "      <td>little rock</td>\n",
       "      <td>pulaski</td>\n",
       "      <td>arkansas</td>\n",
       "      <td>30.0</td>\n",
       "      <td>little rock</td>\n",
       "    </tr>\n",
       "  </tbody>\n",
       "</table>\n",
       "</div>"
      ],
      "text/plain": [
       "       Employer Name         City   County     State Workers          WIA\n",
       "15       babies r us  little rock  pulaski  arkansas    26.0  little rock\n",
       "16        windstream  little rock  pulaski  arkansas    43.0  little rock\n",
       "17              uams  little rock  pulaski  arkansas   258.0  little rock\n",
       "18  charming charlie  little rock  pulaski  arkansas    12.0  little rock\n",
       "19       dixie cafe   little rock  pulaski  arkansas    30.0  little rock"
      ]
     },
     "execution_count": 68,
     "metadata": {},
     "output_type": "execute_result"
    }
   ],
   "source": [
    "k = creport_l.iloc[15:20, :]\n",
    "k"
   ]
  },
  {
   "cell_type": "code",
   "execution_count": null,
   "metadata": {},
   "outputs": [],
   "source": [
    "df[df.apply(lambda x: x['city'].lower() in x['citylist'], axis=1)]"
   ]
  },
  {
   "cell_type": "code",
   "execution_count": 7,
   "metadata": {},
   "outputs": [
    {
     "data": {
      "text/plain": [
       "['.ipynb_checkpoints',\n",
       " '1DB8C000',\n",
       " 'Adult Education & Literacy Council  Partnerships with Employers.csv',\n",
       " 'ARS WIOA Core Business Services - Program Year (PY) 2017.csv',\n",
       " 'CompanyReport_Fiscal_2017_2018.csv',\n",
       " 'creport_l.csv',\n",
       " 'emp_join.ipynb',\n",
       " 'emp_powerquery.autosave.xlsx',\n",
       " 'emp_powerquery.xlsx',\n",
       " 'WIOA Business Locations in Arkansas by County 2018-1.csv',\n",
       " 'WIOA Business Locations in Arkansas by County 2018-1.xlsx',\n",
       " 'wioa_emp_cleansing.csv',\n",
       " 'wioa_l.csv']"
      ]
     },
     "execution_count": 7,
     "metadata": {},
     "output_type": "execute_result"
    }
   ],
   "source": [
    "os.listdir()"
   ]
  },
  {
   "cell_type": "code",
   "execution_count": null,
   "metadata": {},
   "outputs": [],
   "source": []
  },
  {
   "cell_type": "code",
   "execution_count": 8,
   "metadata": {},
   "outputs": [
    {
     "ename": "UnicodeDecodeError",
     "evalue": "'utf-8' codec can't decode byte 0x96 in position 26: invalid start byte",
     "output_type": "error",
     "traceback": [
      "\u001b[1;31m---------------------------------------------------------------------------\u001b[0m",
      "\u001b[1;31mUnicodeDecodeError\u001b[0m                        Traceback (most recent call last)",
      "\u001b[1;32mpandas\\_libs\\parsers.pyx\u001b[0m in \u001b[0;36mpandas._libs.parsers.TextReader._convert_tokens\u001b[1;34m()\u001b[0m\n",
      "\u001b[1;32mpandas\\_libs\\parsers.pyx\u001b[0m in \u001b[0;36mpandas._libs.parsers.TextReader._convert_with_dtype\u001b[1;34m()\u001b[0m\n",
      "\u001b[1;32mpandas\\_libs\\parsers.pyx\u001b[0m in \u001b[0;36mpandas._libs.parsers.TextReader._string_convert\u001b[1;34m()\u001b[0m\n",
      "\u001b[1;32mpandas\\_libs\\parsers.pyx\u001b[0m in \u001b[0;36mpandas._libs.parsers._string_box_utf8\u001b[1;34m()\u001b[0m\n",
      "\u001b[1;31mUnicodeDecodeError\u001b[0m: 'utf-8' codec can't decode byte 0x96 in position 26: invalid start byte",
      "\nDuring handling of the above exception, another exception occurred:\n",
      "\u001b[1;31mUnicodeDecodeError\u001b[0m                        Traceback (most recent call last)",
      "\u001b[1;32m<ipython-input-8-0460b19053dd>\u001b[0m in \u001b[0;36m<module>\u001b[1;34m()\u001b[0m\n\u001b[1;32m----> 1\u001b[1;33m \u001b[0mpart_emp\u001b[0m \u001b[1;33m=\u001b[0m \u001b[0mpd\u001b[0m\u001b[1;33m.\u001b[0m\u001b[0mread_csv\u001b[0m\u001b[1;33m(\u001b[0m\u001b[1;34m'Adult Education & Literacy Council  Partnerships with Employers.csv'\u001b[0m\u001b[1;33m,\u001b[0m \u001b[0mskiprows\u001b[0m \u001b[1;33m=\u001b[0m \u001b[1;36m3\u001b[0m\u001b[1;33m)\u001b[0m\u001b[1;33m\u001b[0m\u001b[0m\n\u001b[0m\u001b[0;32m      2\u001b[0m \u001b[0mpart_emp\u001b[0m\u001b[1;33m.\u001b[0m\u001b[0mhead\u001b[0m\u001b[1;33m(\u001b[0m\u001b[1;33m)\u001b[0m\u001b[1;33m\u001b[0m\u001b[0m\n",
      "\u001b[1;32mc:\\users\\nnagaraj\\appdata\\local\\programs\\python\\python36\\lib\\site-packages\\pandas\\io\\parsers.py\u001b[0m in \u001b[0;36mparser_f\u001b[1;34m(filepath_or_buffer, sep, delimiter, header, names, index_col, usecols, squeeze, prefix, mangle_dupe_cols, dtype, engine, converters, true_values, false_values, skipinitialspace, skiprows, nrows, na_values, keep_default_na, na_filter, verbose, skip_blank_lines, parse_dates, infer_datetime_format, keep_date_col, date_parser, dayfirst, iterator, chunksize, compression, thousands, decimal, lineterminator, quotechar, quoting, escapechar, comment, encoding, dialect, tupleize_cols, error_bad_lines, warn_bad_lines, skipfooter, skip_footer, doublequote, delim_whitespace, as_recarray, compact_ints, use_unsigned, low_memory, buffer_lines, memory_map, float_precision)\u001b[0m\n\u001b[0;32m    707\u001b[0m                     skip_blank_lines=skip_blank_lines)\n\u001b[0;32m    708\u001b[0m \u001b[1;33m\u001b[0m\u001b[0m\n\u001b[1;32m--> 709\u001b[1;33m         \u001b[1;32mreturn\u001b[0m \u001b[0m_read\u001b[0m\u001b[1;33m(\u001b[0m\u001b[0mfilepath_or_buffer\u001b[0m\u001b[1;33m,\u001b[0m \u001b[0mkwds\u001b[0m\u001b[1;33m)\u001b[0m\u001b[1;33m\u001b[0m\u001b[0m\n\u001b[0m\u001b[0;32m    710\u001b[0m \u001b[1;33m\u001b[0m\u001b[0m\n\u001b[0;32m    711\u001b[0m     \u001b[0mparser_f\u001b[0m\u001b[1;33m.\u001b[0m\u001b[0m__name__\u001b[0m \u001b[1;33m=\u001b[0m \u001b[0mname\u001b[0m\u001b[1;33m\u001b[0m\u001b[0m\n",
      "\u001b[1;32mc:\\users\\nnagaraj\\appdata\\local\\programs\\python\\python36\\lib\\site-packages\\pandas\\io\\parsers.py\u001b[0m in \u001b[0;36m_read\u001b[1;34m(filepath_or_buffer, kwds)\u001b[0m\n\u001b[0;32m    453\u001b[0m \u001b[1;33m\u001b[0m\u001b[0m\n\u001b[0;32m    454\u001b[0m     \u001b[1;32mtry\u001b[0m\u001b[1;33m:\u001b[0m\u001b[1;33m\u001b[0m\u001b[0m\n\u001b[1;32m--> 455\u001b[1;33m         \u001b[0mdata\u001b[0m \u001b[1;33m=\u001b[0m \u001b[0mparser\u001b[0m\u001b[1;33m.\u001b[0m\u001b[0mread\u001b[0m\u001b[1;33m(\u001b[0m\u001b[0mnrows\u001b[0m\u001b[1;33m)\u001b[0m\u001b[1;33m\u001b[0m\u001b[0m\n\u001b[0m\u001b[0;32m    456\u001b[0m     \u001b[1;32mfinally\u001b[0m\u001b[1;33m:\u001b[0m\u001b[1;33m\u001b[0m\u001b[0m\n\u001b[0;32m    457\u001b[0m         \u001b[0mparser\u001b[0m\u001b[1;33m.\u001b[0m\u001b[0mclose\u001b[0m\u001b[1;33m(\u001b[0m\u001b[1;33m)\u001b[0m\u001b[1;33m\u001b[0m\u001b[0m\n",
      "\u001b[1;32mc:\\users\\nnagaraj\\appdata\\local\\programs\\python\\python36\\lib\\site-packages\\pandas\\io\\parsers.py\u001b[0m in \u001b[0;36mread\u001b[1;34m(self, nrows)\u001b[0m\n\u001b[0;32m   1067\u001b[0m                 \u001b[1;32mraise\u001b[0m \u001b[0mValueError\u001b[0m\u001b[1;33m(\u001b[0m\u001b[1;34m'skipfooter not supported for iteration'\u001b[0m\u001b[1;33m)\u001b[0m\u001b[1;33m\u001b[0m\u001b[0m\n\u001b[0;32m   1068\u001b[0m \u001b[1;33m\u001b[0m\u001b[0m\n\u001b[1;32m-> 1069\u001b[1;33m         \u001b[0mret\u001b[0m \u001b[1;33m=\u001b[0m \u001b[0mself\u001b[0m\u001b[1;33m.\u001b[0m\u001b[0m_engine\u001b[0m\u001b[1;33m.\u001b[0m\u001b[0mread\u001b[0m\u001b[1;33m(\u001b[0m\u001b[0mnrows\u001b[0m\u001b[1;33m)\u001b[0m\u001b[1;33m\u001b[0m\u001b[0m\n\u001b[0m\u001b[0;32m   1070\u001b[0m \u001b[1;33m\u001b[0m\u001b[0m\n\u001b[0;32m   1071\u001b[0m         \u001b[1;32mif\u001b[0m \u001b[0mself\u001b[0m\u001b[1;33m.\u001b[0m\u001b[0moptions\u001b[0m\u001b[1;33m.\u001b[0m\u001b[0mget\u001b[0m\u001b[1;33m(\u001b[0m\u001b[1;34m'as_recarray'\u001b[0m\u001b[1;33m)\u001b[0m\u001b[1;33m:\u001b[0m\u001b[1;33m\u001b[0m\u001b[0m\n",
      "\u001b[1;32mc:\\users\\nnagaraj\\appdata\\local\\programs\\python\\python36\\lib\\site-packages\\pandas\\io\\parsers.py\u001b[0m in \u001b[0;36mread\u001b[1;34m(self, nrows)\u001b[0m\n\u001b[0;32m   1837\u001b[0m     \u001b[1;32mdef\u001b[0m \u001b[0mread\u001b[0m\u001b[1;33m(\u001b[0m\u001b[0mself\u001b[0m\u001b[1;33m,\u001b[0m \u001b[0mnrows\u001b[0m\u001b[1;33m=\u001b[0m\u001b[1;32mNone\u001b[0m\u001b[1;33m)\u001b[0m\u001b[1;33m:\u001b[0m\u001b[1;33m\u001b[0m\u001b[0m\n\u001b[0;32m   1838\u001b[0m         \u001b[1;32mtry\u001b[0m\u001b[1;33m:\u001b[0m\u001b[1;33m\u001b[0m\u001b[0m\n\u001b[1;32m-> 1839\u001b[1;33m             \u001b[0mdata\u001b[0m \u001b[1;33m=\u001b[0m \u001b[0mself\u001b[0m\u001b[1;33m.\u001b[0m\u001b[0m_reader\u001b[0m\u001b[1;33m.\u001b[0m\u001b[0mread\u001b[0m\u001b[1;33m(\u001b[0m\u001b[0mnrows\u001b[0m\u001b[1;33m)\u001b[0m\u001b[1;33m\u001b[0m\u001b[0m\n\u001b[0m\u001b[0;32m   1840\u001b[0m         \u001b[1;32mexcept\u001b[0m \u001b[0mStopIteration\u001b[0m\u001b[1;33m:\u001b[0m\u001b[1;33m\u001b[0m\u001b[0m\n\u001b[0;32m   1841\u001b[0m             \u001b[1;32mif\u001b[0m \u001b[0mself\u001b[0m\u001b[1;33m.\u001b[0m\u001b[0m_first_chunk\u001b[0m\u001b[1;33m:\u001b[0m\u001b[1;33m\u001b[0m\u001b[0m\n",
      "\u001b[1;32mpandas\\_libs\\parsers.pyx\u001b[0m in \u001b[0;36mpandas._libs.parsers.TextReader.read\u001b[1;34m()\u001b[0m\n",
      "\u001b[1;32mpandas\\_libs\\parsers.pyx\u001b[0m in \u001b[0;36mpandas._libs.parsers.TextReader._read_low_memory\u001b[1;34m()\u001b[0m\n",
      "\u001b[1;32mpandas\\_libs\\parsers.pyx\u001b[0m in \u001b[0;36mpandas._libs.parsers.TextReader._read_rows\u001b[1;34m()\u001b[0m\n",
      "\u001b[1;32mpandas\\_libs\\parsers.pyx\u001b[0m in \u001b[0;36mpandas._libs.parsers.TextReader._convert_column_data\u001b[1;34m()\u001b[0m\n",
      "\u001b[1;32mpandas\\_libs\\parsers.pyx\u001b[0m in \u001b[0;36mpandas._libs.parsers.TextReader._convert_tokens\u001b[1;34m()\u001b[0m\n",
      "\u001b[1;32mpandas\\_libs\\parsers.pyx\u001b[0m in \u001b[0;36mpandas._libs.parsers.TextReader._convert_with_dtype\u001b[1;34m()\u001b[0m\n",
      "\u001b[1;32mpandas\\_libs\\parsers.pyx\u001b[0m in \u001b[0;36mpandas._libs.parsers.TextReader._string_convert\u001b[1;34m()\u001b[0m\n",
      "\u001b[1;32mpandas\\_libs\\parsers.pyx\u001b[0m in \u001b[0;36mpandas._libs.parsers._string_box_utf8\u001b[1;34m()\u001b[0m\n",
      "\u001b[1;31mUnicodeDecodeError\u001b[0m: 'utf-8' codec can't decode byte 0x96 in position 26: invalid start byte"
     ]
    }
   ],
   "source": [
    "part_emp = pd.read_csv('Adult Education & Literacy Council  Partnerships with Employers.csv', skiprows = 3)\n",
    "part_emp.head()"
   ]
  },
  {
   "cell_type": "code",
   "execution_count": null,
   "metadata": {},
   "outputs": [],
   "source": []
  }
 ],
 "metadata": {
  "kernelspec": {
   "display_name": "Python 3",
   "language": "python",
   "name": "python3"
  },
  "language_info": {
   "codemirror_mode": {
    "name": "ipython",
    "version": 3
   },
   "file_extension": ".py",
   "mimetype": "text/x-python",
   "name": "python",
   "nbconvert_exporter": "python",
   "pygments_lexer": "ipython3",
   "version": "3.6.4rc1"
  }
 },
 "nbformat": 4,
 "nbformat_minor": 2
}
